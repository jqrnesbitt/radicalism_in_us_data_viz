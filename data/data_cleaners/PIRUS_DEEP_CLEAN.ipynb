{
 "cells": [
  {
   "cell_type": "code",
   "execution_count": null,
   "metadata": {},
   "outputs": [],
   "source": [
    "import sys\n",
    "print(sys.version)\n",
    "import numpy as np\n",
    "print(np.__version__)\n",
    "import pandas as pd\n",
    "print(pd.__version__)\n",
    "import matplotlib.pyplot as plt\n",
    "import json\n",
    "\n",
    "%matplotlib inline"
   ]
  },
  {
   "cell_type": "code",
   "execution_count": null,
   "metadata": {},
   "outputs": [],
   "source": [
    "# Load Original PIRUS File\n",
    "file = \"../og_data/PIRUS_May2020/PIRUS_Public_May2020.xlsx\"\n",
    "pirus = pd.read_excel(file, parse_dates=['Date_Exposure', 'Convert_Date', 'Reawakening_Date'])"
   ]
  },
  {
   "cell_type": "code",
   "execution_count": null,
   "metadata": {},
   "outputs": [],
   "source": [
    "# Remove all spaces from column names and convert to lower case\n",
    "pirus.rename(columns=lambda x: x.replace(' ','_').lower(), inplace=True)"
   ]
  },
  {
   "cell_type": "code",
   "execution_count": null,
   "metadata": {},
   "outputs": [],
   "source": [
    "#merge coordinates for plot locations\n",
    "pirus_plot_coordinates = pd.read_csv('../clean_data/pirus_plot_coordinates.csv')\n",
    "pirus = pd.merge(pirus,pirus_plot_coordinates,on='subject_id',how='outer')"
   ]
  },
  {
   "cell_type": "code",
   "execution_count": null,
   "metadata": {},
   "outputs": [],
   "source": [
    "#merge coordinates for habitation locations\n",
    "pirus_habit_coordinates = pd.read_csv('../clean_data/pirus_habit_coordinates.csv')\n",
    "pirus = pd.merge(pirus,pirus_habit_coordinates,on='subject_id',how='outer')"
   ]
  },
  {
   "cell_type": "code",
   "execution_count": null,
   "metadata": {
    "scrolled": true
   },
   "outputs": [],
   "source": [
    "pirus"
   ]
  },
  {
   "cell_type": "code",
   "execution_count": null,
   "metadata": {},
   "outputs": [],
   "source": [
    "# Set index to subject_id\n",
    "pirus.set_index(pirus['subject_id'], inplace = True)\n",
    "pirus.index.name = 'subject_id'"
   ]
  },
  {
   "cell_type": "code",
   "execution_count": null,
   "metadata": {
    "scrolled": true
   },
   "outputs": [],
   "source": [
    "# Drop unnecessary fields: \n",
    "unnecessary_fields = ['subject_id', 'age_child', \n",
    "                      'itinerant','group_competition', \n",
    "                      'current_status', 'changing_target', \n",
    "                      'internet_use_plot', 'loc_plot_state2',\n",
    "                      'loc_plot_city2', 'plot_target2', 'plot_target3',\n",
    "                      'terrorist_group_name2', 'terrorist_group_name3',\n",
    "                      'recruiter2', 'recruiter3', 'actively_connect',\n",
    "                      'media_radicalization', 'social_media_platform2',\n",
    "                      'social_media_platform3', 'social_media_platform4',\n",
    "                      'social_media_platform5', 'social_media_activities2',\n",
    "                      'social_media_activities3', 'social_media_activities4',\n",
    "                      'social_media_activities5', 'social_media_activities6',\n",
    "                      'social_media_activities7', 'ideological_sub_category2',\n",
    "                      'ideological_sub_category3', 'loc_habitation_state2',\n",
    "                      'loc_habitation_city2', 'rad_duration', 'event_influence2',\n",
    "                      'event_influence3', 'event_influence4', 'beliefs_trajectory',\n",
    "                      'behaviors_trajectory', 'radicalization_place', 'religious_background',\n",
    "                      'reawakening', 'reawakening_date','change_performance',\n",
    "                      'social_stratum_childhood', 'aspirations', 'abuse_type2',\n",
    "                      'abuse_type3', 'absent_parent','overseas_family',\n",
    "                      'close_family', 'family_religiosity','family_ideology',\n",
    "                      'family_ideological_level', 'prison_family_friend',\n",
    "                      'crime_family_friend', 'radical_family', 'radical_signif_other',\n",
    "                      'relationship_troubles', 'platonic_troubles', 'unstructured_time',\n",
    "                      'friendship_source1', 'friendship_source2', 'friendship_source3',\n",
    "                      'kicked_out', 'previous_criminal_activity_type2',\n",
    "                      'previous_criminal_activity_type3', 'trauma', 'standing']\n",
    "pirus.drop(unnecessary_fields, axis=1, inplace=True)"
   ]
  },
  {
   "cell_type": "code",
   "execution_count": null,
   "metadata": {},
   "outputs": [],
   "source": [
    "# Add year and month columns (derived from date_exposure)\n",
    "pirus['year'] = pd.DatetimeIndex(pirus['date_exposure']).year\n",
    "pirus['month'] = pd.DatetimeIndex(pirus['date_exposure']).month"
   ]
  },
  {
   "cell_type": "code",
   "execution_count": null,
   "metadata": {},
   "outputs": [],
   "source": [
    "# Remove years that are not between 1980 and 2019\n",
    "mask = (pirus['year'] >= 1980) & (pirus['year'] < 2019)\n",
    "pirus = pirus.loc[mask]"
   ]
  },
  {
   "cell_type": "code",
   "execution_count": null,
   "metadata": {
    "scrolled": true
   },
   "outputs": [],
   "source": [
    "def special_nan_counter(ser, code):\n",
    "    try:\n",
    "        return ser.value_counts()[code]\n",
    "    except:\n",
    "        return 0\n",
    "\n",
    "def build_nan_dict(df):\n",
    "    # Loop through columns to built a column/NaN value dictionary\n",
    "    d = {}\n",
    "    for col in df.columns:\n",
    "        count_nan = df[col].isna().sum()\n",
    "        count_88 = special_nan_counter(df[col], '-88') + special_nan_counter(df[col], -88)\n",
    "        count_99 = special_nan_counter(df[col], '-99') + special_nan_counter(df[col], -99)\n",
    "\n",
    "        count_sum =  count_88 + count_99\n",
    "        count_normal = df[col].size - count_sum\n",
    "        typ = df[col].dtype\n",
    "        \n",
    "        d.update({col : {'column_name': col, \n",
    "                         'type' : typ, \n",
    "                         'Normal Value' : count_normal, \n",
    "                         'NaN' : count_nan, \n",
    "                         '-88' : count_88, \n",
    "                         '-99' : count_99, \n",
    "                         'sum' : count_sum}})\n",
    "    return d\n",
    "\n",
    "def nan_analysis(df):\n",
    "    '''Convert nan_dict into a dataframe.'''\n",
    "    df = pd.DataFrame(build_nan_dict(pirus)).T\n",
    "    df.index = df.column_name\n",
    "    df.drop('column_name', axis = 1, inplace=True)\n",
    "    \n",
    "    mask = df['sum'] == 0\n",
    "    df = df.loc[~mask]\n",
    "    \n",
    "    df.drop('sum', axis=1, inplace=True)\n",
    "    df.name = 'NaN Value Counts by Column'\n",
    "    \n",
    "    return df\n",
    "\n",
    "df = nan_analysis(pirus)"
   ]
  },
  {
   "cell_type": "code",
   "execution_count": null,
   "metadata": {},
   "outputs": [],
   "source": [
    "# Remove Special NaN Values\n",
    "for col in pirus.columns:\n",
    "    pirus[col] = pirus[col].replace(to_replace=[-99,'-99'], value=np.nan)"
   ]
  },
  {
   "cell_type": "code",
   "execution_count": null,
   "metadata": {
    "scrolled": true
   },
   "outputs": [],
   "source": [
    "nan_analysis(pirus)"
   ]
  },
  {
   "cell_type": "code",
   "execution_count": null,
   "metadata": {},
   "outputs": [],
   "source": [
    "# Add State Dummy Variables to State Variables (In US = 1, Not in US = 0)\n",
    "\n",
    "# Load Real States\n",
    "with open('../clean_data/state_codes.json') as f:\n",
    "    real_states = json.load(f)\n",
    "    real_states = list(real_states.values())\n",
    "print(real_states)"
   ]
  },
  {
   "cell_type": "code",
   "execution_count": null,
   "metadata": {
    "scrolled": true
   },
   "outputs": [],
   "source": [
    "# Add State Dummy Columns to PIRUS\n",
    "def build_us_dummy(ser):\n",
    "    dummy_col = []\n",
    "    for s in pirus[v]:\n",
    "        if s in real_states:\n",
    "            dummy_col.append(1)\n",
    "        else:\n",
    "            dummy_col.append(0)\n",
    "    return dummy_col\n",
    "\n",
    "state_vs = ['loc_plot_state1', 'loc_habitation_state1']\n",
    "for v in state_vs:\n",
    "    loc = pirus.columns.get_loc(v) + 1\n",
    "    dummy_col = build_us_dummy(pirus[v])\n",
    "    name = v + '_us_dummy'\n",
    "    pirus.insert(loc, name, dummy_col)"
   ]
  },
  {
   "cell_type": "code",
   "execution_count": null,
   "metadata": {},
   "outputs": [],
   "source": [
    "# US Dummy Sanity Check\n",
    "habit = pd.DataFrame({'states' : pirus.loc_habitation_state1, 'dummy' : pirus.loc_habitation_state1_us_dummy})\n",
    "plot = pd.DataFrame({'states' : pirus.loc_plot_state1, 'dummy' : pirus.loc_plot_state1_us_dummy})\n",
    "states = pd.DataFrame.append(habit,plot)\n",
    "\n",
    "states = states.groupby(['dummy', 'states'])\n",
    "zeros = sorted(list({name[0][1] for name in states if name[0][0] == 0}))\n",
    "ones = sorted(list({name[0][1] for name in states if name[0][0] == 1}))\n",
    "\n",
    "print('US States\\n', ones, '\\n')\n",
    "print('*'*100)\n",
    "print('\\nNon-US States\\n', zeros)"
   ]
  },
  {
   "cell_type": "code",
   "execution_count": null,
   "metadata": {},
   "outputs": [],
   "source": [
    "# Save Data to CSV\n",
    "pirus.to_csv('../clean_data/pirus_deep_clean_Final.csv')"
   ]
  }
 ],
 "metadata": {
  "kernelspec": {
   "display_name": "Python 3",
   "language": "python",
   "name": "python3"
  },
  "language_info": {
   "codemirror_mode": {
    "name": "ipython",
    "version": 3
   },
   "file_extension": ".py",
   "mimetype": "text/x-python",
   "name": "python",
   "nbconvert_exporter": "python",
   "pygments_lexer": "ipython3",
   "version": "3.7.6"
  }
 },
 "nbformat": 4,
 "nbformat_minor": 4
}
