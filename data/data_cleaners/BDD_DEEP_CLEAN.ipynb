{
 "cells": [
  {
   "cell_type": "code",
   "execution_count": null,
   "metadata": {},
   "outputs": [],
   "source": [
    "import sys\n",
    "print(sys.version)\n",
    "import numpy as np\n",
    "print(np.__version__)\n",
    "import pandas as pd\n",
    "print(pd.__version__)\n",
    "import matplotlib.pyplot as plt\n",
    "import json\n",
    "%matplotlib inline"
   ]
  },
  {
   "cell_type": "code",
   "execution_count": null,
   "metadata": {},
   "outputs": [],
   "source": [
    "# Load original Brain Drain Data\n",
    "file = \"../og_data/social-capital-project-brain-drain-data-final.xlsx\"\n",
    "data = pd.read_excel(file, 'Data')"
   ]
  },
  {
   "cell_type": "code",
   "execution_count": null,
   "metadata": {
    "scrolled": true
   },
   "outputs": [],
   "source": [
    "# Remove empty columns \n",
    "data = data.drop(['Unnamed: 5', 'Unnamed: 9', 'Unnamed: 11', 'Unnamed: 15', 'Unnamed: 16', 'Unnamed: 17'], axis = 1)"
   ]
  },
  {
   "cell_type": "code",
   "execution_count": null,
   "metadata": {},
   "outputs": [],
   "source": [
    "# Replace column names & remove rows 0 - 1\n",
    "year = data['Unnamed: 0'][2:]\n",
    "state = data['Unnamed: 1'][2:]\n",
    "\n",
    "abs_gross_drain = data['Brain Drain'][2:]\n",
    "abs_gross_gain = data['Unnamed: 3'][2:]\n",
    "abs_net_drain = data['Unnamed: 4'][2:]\n",
    "\n",
    "rel_gross_drain = data['Unnamed: 6'][2:]\n",
    "rel_gross_gain = data['Unnamed: 7'][2:]\n",
    "rel_net_drain = data['Unnamed: 8'][2:]\n",
    "\n",
    "outmigration_rate = data['Outmigration Rate'][2:]\n",
    "\n",
    "abs_stayers = data['Percent Highly Educated '][2:]\n",
    "abs_leavers = data['Unnamed: 13'][2:]\n",
    "abs_entrants = data['Unnamed: 14'][2:]\n",
    "\n",
    "rel_stayers = data['Unnamed: 18'][2:]\n",
    "rel_leavers = data['Unnamed: 19'][2:]\n",
    "rel_entrants = data['Unnamed: 20'][2:]\n",
    "\n",
    "new_fields = {'year' : year,\n",
    "             'state' : state,\n",
    "             'abs_gross_drain' : abs_gross_drain,\n",
    "             'abs_gross_gain' : abs_gross_gain,\n",
    "             'abs_net_drain' : abs_net_drain,\n",
    "             'rel_gross_drain' : rel_gross_drain,\n",
    "             'rel_gross_gain' : rel_gross_gain,\n",
    "             'rel_net_drain' : rel_net_drain,\n",
    "             'outmigration_rate' : outmigration_rate,\n",
    "             'abs_stayers' : abs_stayers,\n",
    "             'abs_leavers' : abs_leavers,\n",
    "             'abs_entrants' : abs_entrants,\n",
    "             'rel_stayers' : rel_stayers,\n",
    "             'rel_leavers' : rel_leavers,\n",
    "             'rel_entrants' : rel_entrants              \n",
    "             }\n",
    "\n",
    "bdd = pd.DataFrame(new_fields)"
   ]
  },
  {
   "cell_type": "code",
   "execution_count": null,
   "metadata": {},
   "outputs": [],
   "source": [
    "# Remove dates not in 1980 - 2019\n",
    "mask = (bdd['year'] >= 1980) & (bdd['year'] < 2019)\n",
    "bdd = bdd.loc[mask]"
   ]
  },
  {
   "cell_type": "code",
   "execution_count": null,
   "metadata": {
    "scrolled": true
   },
   "outputs": [],
   "source": [
    "# Remove trailing white space from state\n",
    "bdd['state'] = bdd.state.apply(lambda x:x.strip())"
   ]
  },
  {
   "cell_type": "code",
   "execution_count": null,
   "metadata": {
    "scrolled": true
   },
   "outputs": [],
   "source": [
    "# Save Cleaned Brain Drain Data to CSV\n",
    "bdd.to_csv('../clean_data/bdd_deep_clean_40221.csv')"
   ]
  },
  {
   "cell_type": "code",
   "execution_count": null,
   "metadata": {},
   "outputs": [],
   "source": [
    "brain_drain_codes = {'year' : 'Year',\n",
    "             'state' : 'State',\n",
    "             'abs_gross_drain' : \"\"\"Absolute Gross Brain Drain\\n(\"Highly Educated\" = Top Third of National Distribution)\\n(% Highly Educated among Leavers minus % among Stayers)\"\"\",\n",
    "             'abs_gross_gain' : \"\"\"Absolute Gross Brain Gain\\n(\"Highly Educated\" = Top Third of National Distribution)\\n(% Highly Educated among Entrants minus % among Stayers)\"\"\",\n",
    "             'abs_net_drain' : \"\"\"Absolute Net Brain Drain\\n(Gross Brain Drain minus Gross Brain Gain, or\\n% Highly Educated among Leavers minus % among Entrants)\"\"\",\n",
    "             'rel_gross_drain' : \"\"\"Relative Gross Brain Drain\\n(\"Highly Educated\" = Top Third of State Distribution)\\n(% Highly Educated among Leavers minus % among Stayers)\"\"\",\n",
    "             'rel_gross_gain' : \"\"\"Relative Gross Brain Gain\\n(\"Highly Educated\" = Top Third of State Distribution)\\n(% Highly Educated among Entrants minus % among Stayers)\"\"\",\n",
    "             'rel_net_drain' : \"\"\"Relative Net Brain Drain\\n(Gross Brain Drain minus Gross Brain Gain, or\\n% Highly Educated among Leavers minus % among Entrants)\"\"\",\n",
    "             'outmigration_rate' : \"\"\"Outmigration Rate\\n% of Natives (of All Education Levels) Ages 31-40 Leaving the State\"\"\",\n",
    "             'abs_stayers' : \"\"\"Percent Highly Educated\\nAbsolute (\"Highly Educated\" = Top Third of National Distribution)\\nStayers\"\"\",\n",
    "             'abs_leavers' : \"\"\"Percent Highly Educated\\nAbsolute (\"Highly Educated\" = Top Third of National Distribution)\\nLeavers\"\"\",\n",
    "             'abs_entrants' : \"\"\"Percent Highly Educated\\nAbsolute (\"Highly Educated\" = Top Third of National Distribution)\\nEntrants\"\"\",\n",
    "             'rel_stayers' : \"\"\"Percent Highly Educated\\nRelative (\"Highly Educated\" = Top Third of State Distribution)\\nStayers\"\"\",\n",
    "             'rel_leavers' : \"\"\"Percent Highly Educated\\nRelative (\"Highly Educated\" = Top Third of State Distribution)\\nLeavers\"\"\",\n",
    "             'rel_entrants' : \"\"\"Percent Highly Educated\\nRelative (\"Highly Educated\" = Top Third of State Distribution)\\nEntrants\"\"\",            \n",
    "             }\n",
    "\n",
    "# Print dictionary to json\n",
    "with open('../clean_data/bdd_codebook.json','w+') as f:\n",
    "    json.dump(brain_drain_codes, f)"
   ]
  }
 ],
 "metadata": {
  "kernelspec": {
   "display_name": "Python 3",
   "language": "python",
   "name": "python3"
  },
  "language_info": {
   "codemirror_mode": {
    "name": "ipython",
    "version": 3
   },
   "file_extension": ".py",
   "mimetype": "text/x-python",
   "name": "python",
   "nbconvert_exporter": "python",
   "pygments_lexer": "ipython3",
   "version": "3.7.6"
  }
 },
 "nbformat": 4,
 "nbformat_minor": 4
}
