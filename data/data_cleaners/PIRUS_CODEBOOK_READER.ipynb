{
 "cells": [
  {
   "cell_type": "markdown",
   "metadata": {},
   "source": [
    "# This Notebook Reads the PIRUS Codebook and Converts it into a Json"
   ]
  },
  {
   "cell_type": "code",
   "execution_count": 1,
   "metadata": {
    "scrolled": true
   },
   "outputs": [
    {
     "name": "stdout",
     "output_type": "stream",
     "text": [
      "3.8.5 (default, Sep  4 2020, 02:22:02) \n",
      "[Clang 10.0.0 ]\n",
      "1.19.2\n",
      "1.1.3\n"
     ]
    }
   ],
   "source": [
    "from collections import defaultdict\n",
    "import sys\n",
    "print(sys.version)\n",
    "import numpy as np\n",
    "print(np.__version__)\n",
    "import pandas as pd\n",
    "print(pd.__version__)\n",
    "import re\n",
    "import json"
   ]
  },
  {
   "cell_type": "code",
   "execution_count": 2,
   "metadata": {
    "scrolled": true
   },
   "outputs": [],
   "source": [
    "codebook = open(r\"../og_data/PIRUS_May2020/pirus_codebook.txt\",\"r\")\n",
    "cb = codebook.read()\n",
    "\n",
    "cb = cb.replace('  ','')\n",
    "\n",
    "cb = cb.split('''Management and Identification Variables''')[2]\n",
    "cb = cb.split('\\n')\n",
    "cb = list(filter(lambda x: x != \"\" and len(x) != 1, cb))\n",
    "\n",
    "new_cb = []\n",
    "for c in cb:\n",
    "    try:\n",
    "        x = int(c)\n",
    "    except:\n",
    "        x = 0\n",
    "    if x == 0:\n",
    "        new_cb.append(c)\n",
    "cb = '\\n'.join(new_cb)\n",
    "pattern = re.compile('\\d+. Field Name: ')\n",
    "data = re.split(pattern, cb)[1:]"
   ]
  },
  {
   "cell_type": "code",
   "execution_count": 3,
   "metadata": {},
   "outputs": [],
   "source": [
    "codebook = defaultdict(dict)\n",
    "keys = ['Label(s)', 'Type', 'Source', 'Description', 'Note']\n",
    "note_count = 0\n",
    "for entry in data:\n",
    "    # Isolate Field Name\n",
    "    pattern = re.compile('(\\S+)')\n",
    "    field = re.search(pattern, entry).group()\n",
    "    codebook[field.lower()].update({'name' : field})\n",
    "    entry = entry.replace(field, '') # remove field from entry\n",
    "\n",
    "    for i in range(len(keys)-1,0,-1):\n",
    "        if keys[i] in entry:\n",
    "            k = keys[i]\n",
    "            pattern = re.compile(r'' + k + ': (.+)\\n')\n",
    "            d = re.search(pattern, entry).group(1)\n",
    "            value = d[0].upper() + d[1:].strip()\n",
    "            entry = entry.replace(k + ': ' + d, '')# remove note from entry\n",
    "        else:\n",
    "            value = ''  \n",
    "        codebook[field.lower()].update({keys[i].lower() : value})\n",
    "    codebook[field.lower()].update({'rest_text' : entry})"
   ]
  },
  {
   "cell_type": "code",
   "execution_count": 4,
   "metadata": {},
   "outputs": [],
   "source": [
    "# translate codes for field\n",
    "for k in codebook.keys():\n",
    "    codes = {}\n",
    "    entries = codebook[k]['rest_text'].split('\\n')\n",
    "    entries = list(filter(lambda x: x != \"\", entries))\n",
    "\n",
    "    # Find the first instance of ' = ' in e in entry, \n",
    "    for e in range(len(entries)):\n",
    "        if ' = ' in entries[e]:\n",
    "            break\n",
    "    beginning_entries = entries[:e]\n",
    "    entries = entries[e:]\n",
    "    \n",
    "    # Find the last instance of ' = ' in e in entry, \n",
    "    for e in range(len(entries)-1,-1,-1):\n",
    "        if ' = ' in entries[e]:\n",
    "            break\n",
    "    end_entries = entries[e + 1:]\n",
    "    entries = ' '.join(entries[:e + 1])\n",
    "\n",
    "    pattern = re.compile('-?\\d+\\s=')\n",
    "    lp = re.findall(pattern, entries)\n",
    "\n",
    "    for l in range(len(lp)-1,-1, -1):\n",
    "\n",
    "        key = int(lp[l][:-2])\n",
    "        val = entries.split(lp[l])[1]\n",
    "        val = val[0].upper() + val[1:]\n",
    "        val = val.strip()\n",
    "        codes[key] = val\n",
    "        entries = entries.split(lp[l])[0]\n",
    "        \n",
    "    codebook[k]['codes'] = codes\n",
    "    \n",
    "    rest_text = ' '.join(beginning_entries + [entries] + end_entries).strip()\n",
    "    codebook[k]['rest_text'] = rest_text"
   ]
  },
  {
   "cell_type": "code",
   "execution_count": 5,
   "metadata": {},
   "outputs": [],
   "source": [
    "# print dictionary to json\n",
    "with open('../clean_data/pirus_codebook.json','w+') as f:\n",
    "    json.dump(codebook, f)"
   ]
  }
 ],
 "metadata": {
  "kernelspec": {
   "display_name": "Python 3",
   "language": "python",
   "name": "python3"
  },
  "language_info": {
   "codemirror_mode": {
    "name": "ipython",
    "version": 3
   },
   "file_extension": ".py",
   "mimetype": "text/x-python",
   "name": "python",
   "nbconvert_exporter": "python",
   "pygments_lexer": "ipython3",
   "version": "3.8.5"
  }
 },
 "nbformat": 4,
 "nbformat_minor": 4
}
