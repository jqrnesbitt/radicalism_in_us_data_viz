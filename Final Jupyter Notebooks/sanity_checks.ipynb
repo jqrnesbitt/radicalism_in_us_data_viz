{
 "cells": [
  {
   "cell_type": "code",
   "execution_count": 199,
   "metadata": {},
   "outputs": [],
   "source": [
    "import sys\n",
    "import numpy as np\n",
    "import pandas as pd\n",
    "import matplotlib.pyplot as plt\n",
    "import json\n",
    "import seaborn as sns\n",
    "import matplotlib.cm as cm\n",
    "%matplotlib inline\n",
    "pd.set_option('display.max_columns', None)\n",
    "pd.set_option('display.max_rows', 500)"
   ]
  },
  {
   "cell_type": "code",
   "execution_count": 200,
   "metadata": {},
   "outputs": [],
   "source": [
    "# Load PIRUS Data\n",
    "pirus = pd.read_csv('../data/clean_data/pirus_deep_clean_Final.csv')\n",
    "\n",
    "# Load PIRUS Codebook\n",
    "with open('../data/clean_data/pirus_codebook.json') as f:\n",
    "    pirus_codebook = json.load(f)"
   ]
  },
  {
   "cell_type": "markdown",
   "metadata": {},
   "source": [
    "# Sanity Checks and Housekeeping"
   ]
  },
  {
   "cell_type": "code",
   "execution_count": 176,
   "metadata": {},
   "outputs": [
    {
     "data": {
      "text/plain": [
       "Index(['subject_id', 'loc_plot_state1', 'loc_plot_state1_us_dummy',\n",
       "       'loc_plot_city1', 'date_exposure', 'plot_target1', 'attack_preparation',\n",
       "       'op_security', 'anticp_fatals_targ', 'extent_plot', 'violent',\n",
       "       'criminal_severity', 'criminal_charges', 'indict_arrest',\n",
       "       'group_membership', 'terrorist_group_name1', 'actively_recruited',\n",
       "       'recruiter1', 'role_group', 'length_group', 'clique',\n",
       "       'clique_radicalize', 'clique_connect', 'internet_radicalization',\n",
       "       'social_media', 'social_media_frequency', 'social_media_platform1',\n",
       "       'social_media_activities1', 'radicalization_islamist',\n",
       "       'radicalization_far_right', 'radicalization_far_left',\n",
       "       'radicalization_single_issue', 'ideological_sub_category1',\n",
       "       'loc_habitation_state1', 'loc_habitation_state1_us_dummy',\n",
       "       'loc_habitation_city1', 'external_rad', 'radical_behaviors',\n",
       "       'radical_beliefs', 'us_govt_leader', 'foreign_govt_leader',\n",
       "       'event_influence1', 'radicalization_sequence', 'prison_radicalize',\n",
       "       'broad_ethnicity', 'age', 'marital_status', 'children', 'gender',\n",
       "       'convert', 'convert_date', 'citizenship', 'residency_status',\n",
       "       'nativity', 'time_us_months', 'immigrant_generation',\n",
       "       'immigrant_source', 'language_english', 'diaspora_ties', 'education',\n",
       "       'student', 'education_change', 'employment_status', 'work_history',\n",
       "       'military', 'foreign_military', 'social_stratum_adulthood',\n",
       "       'abuse_child', 'abuse_adult', 'abuse_type1', 'psychological',\n",
       "       'alcohol_drug', 'radical_friend', 'previous_criminal_activity',\n",
       "       'previous_criminal_activity_type1', 'previous_criminal_activity_age',\n",
       "       'gang', 'gang_age_joined', 'other_ideologies', 'angry_us',\n",
       "       'group_grievance', 'loc_plot1_lat', 'loc_plot1_long', 'loc_habit1_lat',\n",
       "       'loc_habit1_long', 'year', 'month'],\n",
       "      dtype='object')"
      ]
     },
     "execution_count": 176,
     "metadata": {},
     "output_type": "execute_result"
    }
   ],
   "source": [
    "#Columns\n",
    "pirus.columns"
   ]
  },
  {
   "cell_type": "code",
   "execution_count": 177,
   "metadata": {},
   "outputs": [
    {
     "name": "stdout",
     "output_type": "stream",
     "text": [
      "subject_id                      0\n",
      "date_exposure                   0\n",
      "plot_target1                   20\n",
      "extent_plot                    13\n",
      "violent                         0\n",
      "role_group                    126\n",
      "ideological_sub_category1       0\n",
      "radical_behaviors              76\n",
      "marital_status                671\n",
      "gender                          0\n",
      "education                    1074\n",
      "employment_status             948\n",
      "work_history                 1017\n",
      "alcohol_drug                    0\n",
      "loc_plot1_lat                 226\n",
      "loc_plot1_long                226\n",
      "loc_habit1_lat                715\n",
      "loc_habit1_long               715\n",
      "year                            0\n",
      "age                            53\n",
      "broad_ethnicity               146\n",
      "dtype: int64\n"
     ]
    }
   ],
   "source": [
    "pirus = pirus[['subject_id', 'date_exposure', 'plot_target1', 'extent_plot', 'violent', 'role_group', 'ideological_sub_category1', 'radical_behaviors', 'marital_status', 'gender', 'education', 'employment_status', 'work_history', 'alcohol_drug', 'loc_plot1_lat', 'loc_plot1_long', 'loc_habit1_lat', 'loc_habit1_long', 'year', 'age', 'broad_ethnicity']]\n",
    "print(pirus.isnull().sum())"
   ]
  },
  {
   "cell_type": "code",
   "execution_count": 188,
   "metadata": {},
   "outputs": [
    {
     "data": {
      "text/plain": [
       "White supremacist/KKK/Neo-Nazi                                    529\n",
       "Islamist                                                          510\n",
       "Anti-government/Sovereign Citizens movement                       196\n",
       "Animal rights/Environmentalist                                    149\n",
       "Anti-abortion                                                     128\n",
       "Militia/gun rights                                                 78\n",
       "Other                                                              69\n",
       "Xenophobic/Anti-immigrant                                          60\n",
       "Puerto Rican independence/Puerto Rican nationalist                 30\n",
       "Anti-gay                                                           28\n",
       "Black Nationalist/Black Separatist                                 25\n",
       "Anarchist                                                          19\n",
       "Jewish Defense League                                              13\n",
       "Christian Identity                                                 12\n",
       "Anti-capitalist/Communist/anti-Imperialist                         12\n",
       "New Left (primarily 1960’s student movements/anti-Vietnam War)     11\n",
       "Irish Republican Army                                               2\n",
       "Male supremacist                                                    1\n",
       "Name: ideological_sub_category1, dtype: int64"
      ]
     },
     "execution_count": 188,
     "metadata": {},
     "output_type": "execute_result"
    }
   ],
   "source": [
    "#create new df, drop empty rows, and convert float to int\n",
    "ideologicalcategory = pirus[['ideological_sub_category1']]\n",
    "ideologicalcategory = ideologicalcategory.dropna(subset=['ideological_sub_category1'])\n",
    "ideologicalcategory['ideological_sub_category1'] = ideologicalcategory['ideological_sub_category1'].astype(int)\n",
    "\n",
    "#create function for codebook name\n",
    "r_codes = pirus_codebook['ideological_sub_category']['codes']\n",
    "target_fun = lambda x: r_codes[str(x)]\n",
    "\n",
    "#apply function and get value counts\n",
    "ideologicalcategory['ideological_sub_category1'] = ideologicalcategory['ideological_sub_category1'].apply(target_fun)\n",
    "ideologicalcategory['ideological_sub_category1'].value_counts()"
   ]
  },
  {
   "cell_type": "code",
   "execution_count": 178,
   "metadata": {},
   "outputs": [
    {
     "name": "stdout",
     "output_type": "stream",
     "text": [
      "Date range: 1981 to 2018\n"
     ]
    }
   ],
   "source": [
    "#Date Range\n",
    "Min = pirus['year'].min()\n",
    "Max = pirus['year'].max()\n",
    "print(f'Date range: {Min} to {Max}')"
   ]
  },
  {
   "cell_type": "code",
   "execution_count": 179,
   "metadata": {},
   "outputs": [
    {
     "data": {
      "text/plain": [
       "Male      1692\n",
       "Female     180\n",
       "Name: gender, dtype: int64"
      ]
     },
     "execution_count": 179,
     "metadata": {},
     "output_type": "execute_result"
    }
   ],
   "source": [
    "#Gender\n",
    "e_codes = pirus_codebook['gender']['codes']\n",
    "e_fun = lambda x: e_codes[str(x)]\n",
    "pirus['gender'] = pirus['gender'].apply(e_fun)\n",
    "pirus['gender'].value_counts()"
   ]
  },
  {
   "cell_type": "code",
   "execution_count": 190,
   "metadata": {},
   "outputs": [
    {
     "data": {
      "text/plain": [
       "High school diploma                  203\n",
       "Some College                         196\n",
       "College degree                       157\n",
       "Some High school                     115\n",
       "Master’s degree                       41\n",
       "Doctoral/Professional degree          35\n",
       "Vocational school degree              12\n",
       "Some Doctoral/Professional degree     11\n",
       "Some Master’s school                  10\n",
       "Did not attempt high school           10\n",
       "Some Vocational school                 8\n",
       "Name: education, dtype: int64"
      ]
     },
     "execution_count": 190,
     "metadata": {},
     "output_type": "execute_result"
    }
   ],
   "source": [
    "#create new df, drop empty rows, and convert float to int\n",
    "educationcounts = pirus[['education']]\n",
    "educationcounts = educationcounts.dropna(subset=['education'])\n",
    "educationcounts['education'] = educationcounts['education'].astype(int)\n",
    "\n",
    "#create function for codebook name\n",
    "e_codes = pirus_codebook['education']['codes']\n",
    "e_fun = lambda x: e_codes[str(x)]\n",
    "\n",
    "#apply function and get value counts\n",
    "educationcounts['education'] = educationcounts['education'].apply(e_fun)\n",
    "educationcounts['education'].value_counts()"
   ]
  },
  {
   "cell_type": "code",
   "execution_count": 180,
   "metadata": {},
   "outputs": [
    {
     "data": {
      "text/plain": [
       "count    1819.000000\n",
       "mean       34.664101\n",
       "std        13.536037\n",
       "min        10.000000\n",
       "25%        24.000000\n",
       "50%        31.000000\n",
       "75%        43.000000\n",
       "max        88.000000\n",
       "Name: age, dtype: float64"
      ]
     },
     "execution_count": 180,
     "metadata": {},
     "output_type": "execute_result"
    }
   ],
   "source": [
    "#Age\n",
    "pirus['age'].describe()"
   ]
  },
  {
   "cell_type": "code",
   "execution_count": 181,
   "metadata": {},
   "outputs": [
    {
     "data": {
      "text/plain": [
       "count    1157.000000\n",
       "mean      -92.136558\n",
       "std        16.733116\n",
       "min      -157.855676\n",
       "25%      -103.660937\n",
       "50%       -87.365314\n",
       "75%       -78.833717\n",
       "max       -65.957695\n",
       "Name: loc_habit1_long, dtype: float64"
      ]
     },
     "execution_count": 181,
     "metadata": {},
     "output_type": "execute_result"
    }
   ],
   "source": [
    "#Habitation Longitude\n",
    "pirus['loc_habit1_long'].describe()"
   ]
  },
  {
   "cell_type": "code",
   "execution_count": 182,
   "metadata": {},
   "outputs": [
    {
     "data": {
      "text/plain": [
       "count    1157.000000\n",
       "mean       38.400000\n",
       "std         5.537335\n",
       "min        18.379441\n",
       "25%        34.257038\n",
       "50%        39.140448\n",
       "75%        41.875562\n",
       "max        64.837845\n",
       "Name: loc_habit1_lat, dtype: float64"
      ]
     },
     "execution_count": 182,
     "metadata": {},
     "output_type": "execute_result"
    }
   ],
   "source": [
    "#Habitation Latitude\n",
    "pirus['loc_habit1_lat'].describe()"
   ]
  },
  {
   "cell_type": "code",
   "execution_count": 185,
   "metadata": {},
   "outputs": [
    {
     "data": {
      "text/plain": [
       "count    1726.000000\n",
       "mean        3.057358\n",
       "std         0.917249\n",
       "min         1.000000\n",
       "25%         3.000000\n",
       "50%         3.000000\n",
       "75%         3.000000\n",
       "max         7.000000\n",
       "Name: broad_ethnicity, dtype: float64"
      ]
     },
     "execution_count": 185,
     "metadata": {},
     "output_type": "execute_result"
    }
   ],
   "source": [
    "#ethnicity Latitude\n",
    "pirus['broad_ethnicity'].describe()"
   ]
  },
  {
   "cell_type": "code",
   "execution_count": 207,
   "metadata": {},
   "outputs": [
    {
     "data": {
      "text/plain": [
       "White                                            1185\n",
       "Black/African-American                            213\n",
       "Middle Eastern/North African                      171\n",
       "Asian (incl. Iran, Afghanistan, and Pakistan)      77\n",
       "Hispanic/Latino                                    65\n",
       "Native American                                    10\n",
       "Other                                               5\n",
       "Name: broad_ethnicity, dtype: int64"
      ]
     },
     "execution_count": 207,
     "metadata": {},
     "output_type": "execute_result"
    }
   ],
   "source": [
    "#create new df, drop empty rows, and convert float to int\n",
    "b_ethnicity = pirus[['broad_ethnicity']]\n",
    "b_ethnicity = b_ethnicity.dropna(subset=['broad_ethnicity'])\n",
    "b_ethnicity['broad_ethnicity'] = b_ethnicity['broad_ethnicity'].astype(int)\n",
    "\n",
    "#create function for codebook name\n",
    "b_codes = pirus_codebook['broad_ethnicity']['codes']\n",
    "ethnicity_fun = lambda x: b_codes[str(x)]\n",
    "\n",
    "\n",
    "#apply function and get value counts\n",
    "b_ethnicity['broad_ethnicity'] = b_ethnicity['broad_ethnicity'].apply(ethnicity_fun)\n",
    "b_ethnicity['broad_ethnicity'].value_counts()"
   ]
  },
  {
   "cell_type": "code",
   "execution_count": null,
   "metadata": {},
   "outputs": [],
   "source": []
  }
 ],
 "metadata": {
  "kernelspec": {
   "display_name": "Python 3",
   "language": "python",
   "name": "python3"
  },
  "language_info": {
   "codemirror_mode": {
    "name": "ipython",
    "version": 3
   },
   "file_extension": ".py",
   "mimetype": "text/x-python",
   "name": "python",
   "nbconvert_exporter": "python",
   "pygments_lexer": "ipython3",
   "version": "3.7.6"
  }
 },
 "nbformat": 4,
 "nbformat_minor": 4
}
