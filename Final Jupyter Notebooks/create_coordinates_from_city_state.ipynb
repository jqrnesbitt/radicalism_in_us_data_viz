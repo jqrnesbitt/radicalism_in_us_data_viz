{
 "cells": [
  {
   "cell_type": "markdown",
   "metadata": {},
   "source": [
    "# Only use this if you have a small number of coordinates you're looking for. It takes a very long time to run and you're only allowed to ping Nominatim a few times before it times out. Please read documentation before using: https://nominatim.org/"
   ]
  },
  {
   "cell_type": "code",
   "execution_count": null,
   "metadata": {},
   "outputs": [],
   "source": [
    "import sys\n",
    "print(sys.version)\n",
    "import numpy as np\n",
    "print(np.__version__)\n",
    "import pandas as pd\n",
    "print(pd.__version__)\n",
    "import matplotlib.pyplot as plt\n",
    "import geocoder\n",
    "from geopy.geocoders import Nominatim\n",
    "%matplotlib inline\n",
    "import seaborn as sns\n",
    "import time"
   ]
  },
  {
   "cell_type": "code",
   "execution_count": null,
   "metadata": {},
   "outputs": [],
   "source": [
    "#Get Habitation Coordinates\n",
    "# Load PIRUS Data\n",
    "pirus = pd.read_csv('../data/clean_data/pirus_deep_clean_Final.csv')\n",
    "\n",
    "#Correct City Misspellings\n",
    "pirus['loc_habitation_city1'] = pirus['loc_habitation_city1'].replace(['Wentatchee'],'Wenatchee')\n",
    "pirus['loc_habitation_city1'] = pirus['loc_habitation_city1'].replace(['San Lupis Obispo'],'San Luis Obispo')\n",
    "pirus['loc_habitation_city1'] = pirus['loc_habitation_city1'].replace(['San Gernardo Valley'], 'San Fernando Valley')\n",
    "pirus['loc_habitation_city1'] = pirus['loc_habitation_city1'].replace(['Carrolton'], 'Carrollton')\n",
    "pirus['loc_habitation_city1'] = pirus['loc_habitation_city1'].replace(['Shrewsberry'], 'Shrewsbury')\n",
    "pirus['loc_habitation_city1'] = pirus['loc_habitation_city1'].replace(['Mairon'], 'Marion')\n",
    "pirus['loc_habitation_city1'] = pirus['loc_habitation_city1'].replace(['Sam Fernando Valley'], 'San Fernando Valley')\n",
    "pirus['loc_habitation_city1'] = pirus['loc_habitation_city1'].replace(['Uriah'], 'Ukiah')\n",
    "pirus['loc_habitation_city1'] = pirus['loc_habitation_city1'].replace(['Providence town'], 'Provincetown')\n",
    "pirus['loc_habitation_city1'] = pirus['loc_habitation_city1'].replace(['Adventura'], 'Aventura')\n",
    "pirus['loc_habitation_city1'] = pirus['loc_habitation_city1'].replace(['Case Grande'], 'Casa Grande')\n",
    "pirus['loc_habitation_city1'] = pirus['loc_habitation_city1'].replace(['Burelson County'], 'Burleson County')\n",
    "pirus['loc_habitation_city1'] = pirus['loc_habitation_city1'].replace(['Plainsville'], 'Painesville')\n",
    "pirus['loc_habitation_city1'] = pirus['loc_habitation_city1'].replace(['Caroll County'], 'Carroll County')\n",
    "pirus['loc_habitation_city1'] = pirus['loc_habitation_city1'].replace(['Baldwin Borough'], 'Baldwin')"
   ]
  },
  {
   "cell_type": "code",
   "execution_count": null,
   "metadata": {},
   "outputs": [],
   "source": [
    "#concatonate city and state to create one location for geocoder\n",
    "pirus['habitation_location'] = pirus['loc_habitation_city1'] + ', ' + pirus[\"loc_habitation_state1\"]\n",
    "#drop NA locations\n",
    "pirus.dropna(subset = ['habitation_location'], inplace=True)"
   ]
  },
  {
   "cell_type": "code",
   "execution_count": null,
   "metadata": {},
   "outputs": [],
   "source": [
    "#Find longitude and latitude for habitation location\n",
    "#takes 10+ mins to run, please use pre-built csv instead.\n",
    "lat_list_habit = []\n",
    "long_list_habit = []\n",
    "count = 0\n",
    "city = pirus['habitation_location']\n",
    "for address in city:\n",
    "    geolocator = Nominatim(user_agent=\"\")\n",
    "    location = geolocator.geocode(address)\n",
    "    lat_list_habit.append(location.latitude)\n",
    "    long_list_habit.append(location.longitude)\n",
    "    \n",
    "#Add new longitude and latitude columns\n",
    "pirus.insert(2, 'loc_habit1_lat', lat_list_habit, True)\n",
    "pirus.insert(2, 'loc_habit1_long', long_list_habit, True)\n",
    "\n",
    "#drop all rows except subject_id, loc_habit1_lat, loc_habit1_long\n",
    "pirus_habit_coordinates = pirus[['subject_id','loc_habit1_lat','loc_habit1_long']]\n",
    "\n",
    "#write data to csv\n",
    "pirus_habit_coordinates.to_csv('../data/clean_data/pirus_habit_coordinates.csv', index = False)"
   ]
  },
  {
   "cell_type": "code",
   "execution_count": null,
   "metadata": {},
   "outputs": [],
   "source": [
    "#Get Plot Coordinates\n",
    "# Load PIRUS Data\n",
    "pirus = pd.read_csv('../data/clean_data/pirus_deep_clean_Final.csv')\n",
    "\n",
    "#Correct City Misspellings\n",
    "pirus['loc_plot_city1'] = pirus['loc_plot_city1'].replace(['Wentatchee'],'Wenatchee')\n",
    "pirus['loc_plot_city1'] = pirus['loc_plot_city1'].replace(['San Lupis Obispo'],'San Luis Obispo')\n",
    "pirus['loc_plot_city1'] = pirus['loc_plot_city1'].replace(['San Gernardo Valley'], 'San Fernando Valley')\n",
    "pirus['loc_plot_city1'] = pirus['loc_plot_city1'].replace(['Carrolton'], 'Carrollton')\n",
    "pirus['loc_plot_city1'] = pirus['loc_plot_city1'].replace(['Shrewsberry'], 'Shrewsbury')\n",
    "pirus['loc_plot_city1'] = pirus['loc_plot_city1'].replace(['Mairon'], 'Marion')\n",
    "pirus['loc_plot_city1'] = pirus['loc_plot_city1'].replace(['Sam Fernando Valley'], 'San Fernando Valley')\n",
    "pirus['loc_plot_city1'] = pirus['loc_plot_city1'].replace(['Uriah'], 'Ukiah')\n",
    "pirus['loc_plot_city1'] = pirus['loc_plot_city1'].replace(['Providence Town'], 'Provincetown')\n",
    "pirus['loc_plot_city1'] = pirus['loc_plot_city1'].replace(['Adventura'], 'Aventura')\n",
    "pirus['loc_plot_city1'] = pirus['loc_plot_city1'].replace(['Case Grande'], 'Casa Grande')\n",
    "pirus['loc_plot_city1'] = pirus['loc_plot_city1'].replace(['Burelson County'], 'Burleson County')"
   ]
  },
  {
   "cell_type": "code",
   "execution_count": null,
   "metadata": {},
   "outputs": [],
   "source": [
    "#concatonate city and state to create one location for geocoder\n",
    "pirus[\"plot_location\"] = pirus[\"loc_plot_city1\"] + ', ' + pirus[\"loc_plot_state1\"]\n",
    "\n",
    "#drop NA locations\n",
    "pirus.dropna(subset = [\"plot_location\"], inplace=True)\n",
    "#mask = pirus['subject_id'] > 6184\n",
    "#pirus = pirus[mask]"
   ]
  },
  {
   "cell_type": "code",
   "execution_count": null,
   "metadata": {},
   "outputs": [],
   "source": [
    "pirus.shape"
   ]
  },
  {
   "cell_type": "code",
   "execution_count": null,
   "metadata": {},
   "outputs": [],
   "source": [
    "pirus.sort_values(by = 'subject_id', ascending=False)"
   ]
  },
  {
   "cell_type": "code",
   "execution_count": null,
   "metadata": {},
   "outputs": [],
   "source": [
    "pirus"
   ]
  },
  {
   "cell_type": "code",
   "execution_count": null,
   "metadata": {},
   "outputs": [],
   "source": [
    "#Find longitude and latitude for plot location\n",
    "#takes 10+ mins to run, please use pre-built csv instead.\n",
    "lat_list = []\n",
    "long_list = []\n",
    "id_list = []\n",
    "count = 0\n",
    "city = pirus['plot_location']\n",
    "for address in city:\n",
    "    geolocator = Nominatim(user_agent='')\n",
    "    location = geolocator.geocode(address)\n",
    "    lat_list.append(location.latitude)\n",
    "    long_list.append(location.longitude)\n",
    "    time.sleep(1)"
   ]
  },
  {
   "cell_type": "code",
   "execution_count": null,
   "metadata": {},
   "outputs": [],
   "source": [
    "print(long_list)\n",
    "print(lat_list)"
   ]
  },
  {
   "cell_type": "code",
   "execution_count": null,
   "metadata": {},
   "outputs": [],
   "source": [
    "#Add new longitude and latitude columns\n",
    "pirus.insert(2, 'loc_plot1_lat', lat_list, True)\n",
    "pirus.insert(2, 'loc_plot1_long', long_list, True)\n",
    "\n",
    "#drop all rows except subject_id, loc_habit1_lat, loc_habit1_long\n",
    "pirus_plot_coordinates = pirus[['subject_id','loc_plot1_lat','loc_plot1_long']]\n",
    "\n",
    "\n",
    "#write data to csv\n",
    "pirus_plot_coordinates.to_csv('../data/clean_data/pirus_plot_coordinates.csv', index = False)"
   ]
  },
  {
   "cell_type": "code",
   "execution_count": null,
   "metadata": {},
   "outputs": [],
   "source": [
    "d = {'loc_plot1_lat':long_list,'loc_plot1_long':lat_list}"
   ]
  },
  {
   "cell_type": "code",
   "execution_count": null,
   "metadata": {},
   "outputs": [],
   "source": [
    "df = pd.DataFrame(d, columns=['loc_plot1_lat','loc_plot1_long'])"
   ]
  },
  {
   "cell_type": "code",
   "execution_count": null,
   "metadata": {},
   "outputs": [],
   "source": [
    "df"
   ]
  },
  {
   "cell_type": "code",
   "execution_count": null,
   "metadata": {},
   "outputs": [],
   "source": [
    "df.to_csv('../data/clean_data/coord4.csv', index = False)"
   ]
  },
  {
   "cell_type": "code",
   "execution_count": null,
   "metadata": {},
   "outputs": [],
   "source": []
  }
 ],
 "metadata": {
  "kernelspec": {
   "display_name": "Python 3",
   "language": "python",
   "name": "python3"
  },
  "language_info": {
   "codemirror_mode": {
    "name": "ipython",
    "version": 3
   },
   "file_extension": ".py",
   "mimetype": "text/x-python",
   "name": "python",
   "nbconvert_exporter": "python",
   "pygments_lexer": "ipython3",
   "version": "3.7.6"
  }
 },
 "nbformat": 4,
 "nbformat_minor": 4
}
